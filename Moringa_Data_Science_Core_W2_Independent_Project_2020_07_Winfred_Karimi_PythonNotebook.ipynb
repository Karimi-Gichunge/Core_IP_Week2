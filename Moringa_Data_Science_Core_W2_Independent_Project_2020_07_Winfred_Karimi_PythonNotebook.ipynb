{
  "nbformat": 4,
  "nbformat_minor": 0,
  "metadata": {
    "colab": {
      "name": "Moringa_Data_Science_Core_W2_Independent_Project_2020_07_Winfred_Karimi_PythonNotebook",
      "provenance": [],
      "collapsed_sections": [
        "vTbdjSrhVIiT",
        "lQ2G4ZPDVOXE",
        "xrmHVMVsVS--",
        "HPQviDmNtta8",
        "qjFHK1CKty7o",
        "HSsicSdvt4Zs"
      ],
      "toc_visible": true,
      "include_colab_link": true
    },
    "kernelspec": {
      "name": "python3",
      "display_name": "Python 3"
    }
  },
  "cells": [
    {
      "cell_type": "markdown",
      "metadata": {
        "id": "view-in-github",
        "colab_type": "text"
      },
      "source": [
        "<a href=\"https://colab.research.google.com/github/Karimi-Gichunge/Core_IP_Week2/blob/master/Moringa_Data_Science_Core_W2_Independent_Project_2020_07_Winfred_Karimi_PythonNotebook.ipynb\" target=\"_parent\"><img src=\"https://colab.research.google.com/assets/colab-badge.svg\" alt=\"Open In Colab\"/></a>"
      ]
    },
    {
      "cell_type": "markdown",
      "metadata": {
        "id": "xMxtPsqcTsSH",
        "colab_type": "text"
      },
      "source": [
        "# State of financial inclusion in Kenya, Rwanda, Tanzania, and Uganda"
      ]
    },
    {
      "cell_type": "markdown",
      "metadata": {
        "id": "kLG2VTrnTvYL",
        "colab_type": "text"
      },
      "source": [
        "## 1. Defining the Question"
      ]
    },
    {
      "cell_type": "markdown",
      "metadata": {
        "id": "XecOwPNorl2W",
        "colab_type": "text"
      },
      "source": [
        "### a) Specifying the Data Analytic Question"
      ]
    },
    {
      "cell_type": "markdown",
      "metadata": {
        "id": "9ozBnKfehSAw",
        "colab_type": "text"
      },
      "source": [
        "> To predict which individuals are most likely to have or use a bank account  in Kenya, Rwanda, Tanzania, and Uganda."
      ]
    },
    {
      "cell_type": "markdown",
      "metadata": {
        "id": "J4wfHZwQrs-t",
        "colab_type": "text"
      },
      "source": [
        "### b) Defining the Metric for Success"
      ]
    },
    {
      "cell_type": "markdown",
      "metadata": {
        "id": "3zaOQfWJ-sNv",
        "colab_type": "text"
      },
      "source": [
        "The project will be a success if it is able to predict the individuals are most likely to have or use a bank account in Kenya, Rwanda, Tanzania, and Uganda while at the same time provide insights into key demographic factors that might drive individuals’ financial outcomes."
      ]
    },
    {
      "cell_type": "markdown",
      "metadata": {
        "id": "a9BPYqunry97",
        "colab_type": "text"
      },
      "source": [
        "### c) Understanding the context "
      ]
    },
    {
      "cell_type": "markdown",
      "metadata": {
        "id": "KW-h9OmzBW8q",
        "colab_type": "text"
      },
      "source": [
        "Access to bank accounts has been regarded as an indicator of financial inclusion. In Africa most adults don't have access to or use a commercial bank account. For example, across Kenya, Rwanda, Tanzania, and Uganda only 9.1 million adults (or 13.9% of the adult population) have access to or use a commercial bank account.\n",
        "This study seeks to provide an indication of the state of financial inclusion in Kenya, Rwanda, Tanzania, and Uganda,by predicting which individuals are most likely to have or use a bank account.\n",
        "The study will also provide insights into some of the key demographic factors that might drive individuals’ financial outcomes.\n",
        "\n"
      ]
    },
    {
      "cell_type": "markdown",
      "metadata": {
        "id": "TBHibwUUJRav",
        "colab_type": "text"
      },
      "source": [
        "### d) Experimental design taken"
      ]
    },
    {
      "cell_type": "markdown",
      "metadata": {
        "id": "Q95NytrmJ0ww",
        "colab_type": "text"
      },
      "source": [
        "In this study, we will be conducting Explorative Data Analysis, i.e Univariate, Bivariate and Multivariate Analysis to get the relationships and differences between different variables hence coming up with a prediction on individuals who are most likely to have or use a bank account\n"
      ]
    },
    {
      "cell_type": "markdown",
      "metadata": {
        "id": "zSGyg6kWsBUl",
        "colab_type": "text"
      },
      "source": [
        "### e) Data Relevance"
      ]
    },
    {
      "cell_type": "markdown",
      "metadata": {
        "id": "nrHJXM0rNK1g",
        "colab_type": "text"
      },
      "source": [
        "The data provided is for the year 2016 to 2018 for all the countries in our study, i.e(Kenya, Rwanda, Tanzania, and Uganda) which will enable us come up with trends to depict which group of people are likely to have a bank account. The data also contains important variables such as Gender, Education level, Age, Has a bank account, Job type which are very useful in determining whether the different groups have access to a bank account or not.  "
      ]
    },
    {
      "cell_type": "markdown",
      "metadata": {
        "id": "iUNbvIvnT7ep",
        "colab_type": "text"
      },
      "source": [
        "## 2. Reading the Data"
      ]
    },
    {
      "cell_type": "code",
      "metadata": {
        "id": "sneeWA-6ORxk",
        "colab_type": "code",
        "colab": {
          "base_uri": "https://localhost:8080/",
          "height": 71
        },
        "outputId": "3b4804d1-2f55-46fd-a3ca-d31a21274c09"
      },
      "source": [
        "#First we will import the necessary libraries\n",
        "import numpy as np\n",
        "import pandas as pd\n",
        "import matplotlib.pyplot as plt\n",
        "import seaborn as sns\n",
        "import scipy.stats as stats\n"
      ],
      "execution_count": 1,
      "outputs": [
        {
          "output_type": "stream",
          "text": [
            "/usr/local/lib/python3.6/dist-packages/statsmodels/tools/_testing.py:19: FutureWarning: pandas.util.testing is deprecated. Use the functions in the public API at pandas.testing instead.\n",
            "  import pandas.util.testing as tm\n"
          ],
          "name": "stderr"
        }
      ]
    },
    {
      "cell_type": "code",
      "metadata": {
        "id": "XJn2KjW-WMlG",
        "colab_type": "code",
        "colab": {
          "base_uri": "https://localhost:8080/",
          "height": 281
        },
        "outputId": "ae6d7838-f91e-40ad-928e-9ae8654cb9ed"
      },
      "source": [
        "# Loading the Data from the source\n",
        "# ---\n",
        "data = pd.read_csv('Financial_Dataset.csv', error_bad_lines=False)\n",
        "#Previewing the upper part of the data\n",
        "data.head(3)"
      ],
      "execution_count": 2,
      "outputs": [
        {
          "output_type": "stream",
          "text": [
            "b'Skipping line 16984: expected 13 fields, saw 14\\n'\n"
          ],
          "name": "stderr"
        },
        {
          "output_type": "execute_result",
          "data": {
            "text/html": [
              "<div>\n",
              "<style scoped>\n",
              "    .dataframe tbody tr th:only-of-type {\n",
              "        vertical-align: middle;\n",
              "    }\n",
              "\n",
              "    .dataframe tbody tr th {\n",
              "        vertical-align: top;\n",
              "    }\n",
              "\n",
              "    .dataframe thead th {\n",
              "        text-align: right;\n",
              "    }\n",
              "</style>\n",
              "<table border=\"1\" class=\"dataframe\">\n",
              "  <thead>\n",
              "    <tr style=\"text-align: right;\">\n",
              "      <th></th>\n",
              "      <th>country</th>\n",
              "      <th>year</th>\n",
              "      <th>uniqueid</th>\n",
              "      <th>Has a Bank account</th>\n",
              "      <th>Type of Location</th>\n",
              "      <th>Cell Phone Access</th>\n",
              "      <th>household_size</th>\n",
              "      <th>Respondent Age</th>\n",
              "      <th>gender_of_respondent</th>\n",
              "      <th>The relathip with head</th>\n",
              "      <th>marital_status</th>\n",
              "      <th>Level of Educuation</th>\n",
              "      <th>Type of Job</th>\n",
              "    </tr>\n",
              "  </thead>\n",
              "  <tbody>\n",
              "    <tr>\n",
              "      <th>0</th>\n",
              "      <td>Kenya</td>\n",
              "      <td>2018</td>\n",
              "      <td>uniqueid_1</td>\n",
              "      <td>Yes</td>\n",
              "      <td>Rural</td>\n",
              "      <td>Yes</td>\n",
              "      <td>3.0</td>\n",
              "      <td>24.0</td>\n",
              "      <td>Female</td>\n",
              "      <td>Spouse</td>\n",
              "      <td>Married/Living together</td>\n",
              "      <td>Secondary education</td>\n",
              "      <td>Self employed</td>\n",
              "    </tr>\n",
              "    <tr>\n",
              "      <th>1</th>\n",
              "      <td>Kenya</td>\n",
              "      <td>2018</td>\n",
              "      <td>uniqueid_2</td>\n",
              "      <td>No</td>\n",
              "      <td>Rural</td>\n",
              "      <td>No</td>\n",
              "      <td>5.0</td>\n",
              "      <td>70.0</td>\n",
              "      <td>Female</td>\n",
              "      <td>Head of Household</td>\n",
              "      <td>Widowed</td>\n",
              "      <td>No formal education</td>\n",
              "      <td>Government Dependent</td>\n",
              "    </tr>\n",
              "    <tr>\n",
              "      <th>2</th>\n",
              "      <td>Kenya</td>\n",
              "      <td>2018</td>\n",
              "      <td>uniqueid_3</td>\n",
              "      <td>Yes</td>\n",
              "      <td>Urban</td>\n",
              "      <td>Yes</td>\n",
              "      <td>5.0</td>\n",
              "      <td>26.0</td>\n",
              "      <td>Male</td>\n",
              "      <td>Other relative</td>\n",
              "      <td>Single/Never Married</td>\n",
              "      <td>Vocational/Specialised training</td>\n",
              "      <td>Self employed</td>\n",
              "    </tr>\n",
              "  </tbody>\n",
              "</table>\n",
              "</div>"
            ],
            "text/plain": [
              "  country  year  ...              Level of Educuation           Type of Job\n",
              "0   Kenya  2018  ...              Secondary education         Self employed\n",
              "1   Kenya  2018  ...              No formal education  Government Dependent\n",
              "2   Kenya  2018  ...  Vocational/Specialised training         Self employed\n",
              "\n",
              "[3 rows x 13 columns]"
            ]
          },
          "metadata": {
            "tags": []
          },
          "execution_count": 2
        }
      ]
    },
    {
      "cell_type": "code",
      "metadata": {
        "id": "N8p1JR8ZWqDA",
        "colab_type": "code",
        "colab": {
          "base_uri": "https://localhost:8080/",
          "height": 264
        },
        "outputId": "05b29870-b591-489d-d7cd-13f889c7e212"
      },
      "source": [
        "#Previewing the lower part of the data\n",
        "data.tail(3)"
      ],
      "execution_count": 3,
      "outputs": [
        {
          "output_type": "execute_result",
          "data": {
            "text/html": [
              "<div>\n",
              "<style scoped>\n",
              "    .dataframe tbody tr th:only-of-type {\n",
              "        vertical-align: middle;\n",
              "    }\n",
              "\n",
              "    .dataframe tbody tr th {\n",
              "        vertical-align: top;\n",
              "    }\n",
              "\n",
              "    .dataframe thead th {\n",
              "        text-align: right;\n",
              "    }\n",
              "</style>\n",
              "<table border=\"1\" class=\"dataframe\">\n",
              "  <thead>\n",
              "    <tr style=\"text-align: right;\">\n",
              "      <th></th>\n",
              "      <th>country</th>\n",
              "      <th>year</th>\n",
              "      <th>uniqueid</th>\n",
              "      <th>Has a Bank account</th>\n",
              "      <th>Type of Location</th>\n",
              "      <th>Cell Phone Access</th>\n",
              "      <th>household_size</th>\n",
              "      <th>Respondent Age</th>\n",
              "      <th>gender_of_respondent</th>\n",
              "      <th>The relathip with head</th>\n",
              "      <th>marital_status</th>\n",
              "      <th>Level of Educuation</th>\n",
              "      <th>Type of Job</th>\n",
              "    </tr>\n",
              "  </thead>\n",
              "  <tbody>\n",
              "    <tr>\n",
              "      <th>32071</th>\n",
              "      <td>Uganda</td>\n",
              "      <td>2018</td>\n",
              "      <td>uniqueid_2115</td>\n",
              "      <td>No</td>\n",
              "      <td>Rural</td>\n",
              "      <td>Yes</td>\n",
              "      <td>5.0</td>\n",
              "      <td>27.0</td>\n",
              "      <td>Female</td>\n",
              "      <td>Parent</td>\n",
              "      <td>Widowed</td>\n",
              "      <td>Primary education</td>\n",
              "      <td>Other Income</td>\n",
              "    </tr>\n",
              "    <tr>\n",
              "      <th>32072</th>\n",
              "      <td>Uganda</td>\n",
              "      <td>2018</td>\n",
              "      <td>uniqueid_2116</td>\n",
              "      <td>No</td>\n",
              "      <td>Urban</td>\n",
              "      <td>Yes</td>\n",
              "      <td>7.0</td>\n",
              "      <td>30.0</td>\n",
              "      <td>Female</td>\n",
              "      <td>Parent</td>\n",
              "      <td>Divorced/Seperated</td>\n",
              "      <td>Secondary education</td>\n",
              "      <td>Self employed</td>\n",
              "    </tr>\n",
              "    <tr>\n",
              "      <th>32073</th>\n",
              "      <td>Uganda</td>\n",
              "      <td>2018</td>\n",
              "      <td>uniqueid_2117</td>\n",
              "      <td>No</td>\n",
              "      <td>Rural</td>\n",
              "      <td>Yes</td>\n",
              "      <td>10.0</td>\n",
              "      <td>20.0</td>\n",
              "      <td>Male</td>\n",
              "      <td>Child</td>\n",
              "      <td>Single/Never Married</td>\n",
              "      <td>Secondary education</td>\n",
              "      <td>No Income</td>\n",
              "    </tr>\n",
              "  </tbody>\n",
              "</table>\n",
              "</div>"
            ],
            "text/plain": [
              "      country  year  ...  Level of Educuation    Type of Job\n",
              "32071  Uganda  2018  ...    Primary education   Other Income\n",
              "32072  Uganda  2018  ...  Secondary education  Self employed\n",
              "32073  Uganda  2018  ...  Secondary education      No Income\n",
              "\n",
              "[3 rows x 13 columns]"
            ]
          },
          "metadata": {
            "tags": []
          },
          "execution_count": 3
        }
      ]
    },
    {
      "cell_type": "markdown",
      "metadata": {
        "id": "OI3P3YnHUEBk",
        "colab_type": "text"
      },
      "source": [
        "## 3. Checking the Data"
      ]
    },
    {
      "cell_type": "code",
      "metadata": {
        "id": "YjSVNwgptHxY",
        "colab_type": "code",
        "colab": {
          "base_uri": "https://localhost:8080/",
          "height": 34
        },
        "outputId": "abf147ca-ee9d-4bb4-e9b6-984fdd552baf"
      },
      "source": [
        "# Determining the no. of records in our dataset\n",
        "#\n",
        "data.shape\n",
        "#The dataset has 23524 rows and 13 columns"
      ],
      "execution_count": 4,
      "outputs": [
        {
          "output_type": "execute_result",
          "data": {
            "text/plain": [
              "(32074, 13)"
            ]
          },
          "metadata": {
            "tags": []
          },
          "execution_count": 4
        }
      ]
    },
    {
      "cell_type": "code",
      "metadata": {
        "id": "xln55xQ0dZnc",
        "colab_type": "code",
        "colab": {
          "base_uri": "https://localhost:8080/",
          "height": 102
        },
        "outputId": "fca5fefc-e342-4b65-ba9b-7c0c36a44437"
      },
      "source": [
        "#Getting column names\n",
        "data.columns"
      ],
      "execution_count": 5,
      "outputs": [
        {
          "output_type": "execute_result",
          "data": {
            "text/plain": [
              "Index(['country', 'year', 'uniqueid', 'Has a Bank account', 'Type of Location',\n",
              "       'Cell Phone Access', 'household_size', 'Respondent Age',\n",
              "       'gender_of_respondent', 'The relathip with head', 'marital_status',\n",
              "       'Level of Educuation', 'Type of Job'],\n",
              "      dtype='object')"
            ]
          },
          "metadata": {
            "tags": []
          },
          "execution_count": 5
        }
      ]
    },
    {
      "cell_type": "code",
      "metadata": {
        "id": "n8-dW4sQWzbc",
        "colab_type": "code",
        "colab": {
          "base_uri": "https://localhost:8080/",
          "height": 255
        },
        "outputId": "9614c5e3-1824-43b0-e373-708295b010d4"
      },
      "source": [
        "# Checking whether each column has an appropriate datatype\n",
        "data.dtypes\n",
        "#Here we can conclude that most of our data is of type object\n",
        "#But the column year is int64 and household size and age are both float64"
      ],
      "execution_count": 6,
      "outputs": [
        {
          "output_type": "execute_result",
          "data": {
            "text/plain": [
              "country                    object\n",
              "year                        int64\n",
              "uniqueid                   object\n",
              "Has a Bank account         object\n",
              "Type of Location           object\n",
              "Cell Phone Access          object\n",
              "household_size            float64\n",
              "Respondent Age            float64\n",
              "gender_of_respondent       object\n",
              "The relathip with head     object\n",
              "marital_status             object\n",
              "Level of Educuation        object\n",
              "Type of Job                object\n",
              "dtype: object"
            ]
          },
          "metadata": {
            "tags": []
          },
          "execution_count": 6
        }
      ]
    },
    {
      "cell_type": "code",
      "metadata": {
        "id": "-AY7TupSozyS",
        "colab_type": "code",
        "colab": {
          "base_uri": "https://localhost:8080/",
          "height": 297
        },
        "outputId": "22019c77-a8d4-49bb-b228-377f1034cc9a"
      },
      "source": [
        "#Check for basic descriptive statistics for the numeric columns\n",
        "data.describe()\n",
        "#From output, we can see that the mean household size is 3.4 : 4 and the mean age is ar"
      ],
      "execution_count": 7,
      "outputs": [
        {
          "output_type": "execute_result",
          "data": {
            "text/html": [
              "<div>\n",
              "<style scoped>\n",
              "    .dataframe tbody tr th:only-of-type {\n",
              "        vertical-align: middle;\n",
              "    }\n",
              "\n",
              "    .dataframe tbody tr th {\n",
              "        vertical-align: top;\n",
              "    }\n",
              "\n",
              "    .dataframe thead th {\n",
              "        text-align: right;\n",
              "    }\n",
              "</style>\n",
              "<table border=\"1\" class=\"dataframe\">\n",
              "  <thead>\n",
              "    <tr style=\"text-align: right;\">\n",
              "      <th></th>\n",
              "      <th>year</th>\n",
              "      <th>household_size</th>\n",
              "      <th>Respondent Age</th>\n",
              "    </tr>\n",
              "  </thead>\n",
              "  <tbody>\n",
              "    <tr>\n",
              "      <th>count</th>\n",
              "      <td>32074.000000</td>\n",
              "      <td>32033.000000</td>\n",
              "      <td>32025.000000</td>\n",
              "    </tr>\n",
              "    <tr>\n",
              "      <th>mean</th>\n",
              "      <td>2016.785964</td>\n",
              "      <td>3.722630</td>\n",
              "      <td>38.908759</td>\n",
              "    </tr>\n",
              "    <tr>\n",
              "      <th>std</th>\n",
              "      <td>0.864167</td>\n",
              "      <td>2.236393</td>\n",
              "      <td>16.489457</td>\n",
              "    </tr>\n",
              "    <tr>\n",
              "      <th>min</th>\n",
              "      <td>2016.000000</td>\n",
              "      <td>0.000000</td>\n",
              "      <td>16.000000</td>\n",
              "    </tr>\n",
              "    <tr>\n",
              "      <th>25%</th>\n",
              "      <td>2016.000000</td>\n",
              "      <td>2.000000</td>\n",
              "      <td>26.000000</td>\n",
              "    </tr>\n",
              "    <tr>\n",
              "      <th>50%</th>\n",
              "      <td>2017.000000</td>\n",
              "      <td>3.000000</td>\n",
              "      <td>35.000000</td>\n",
              "    </tr>\n",
              "    <tr>\n",
              "      <th>75%</th>\n",
              "      <td>2018.000000</td>\n",
              "      <td>5.000000</td>\n",
              "      <td>49.000000</td>\n",
              "    </tr>\n",
              "    <tr>\n",
              "      <th>max</th>\n",
              "      <td>2056.000000</td>\n",
              "      <td>21.000000</td>\n",
              "      <td>100.000000</td>\n",
              "    </tr>\n",
              "  </tbody>\n",
              "</table>\n",
              "</div>"
            ],
            "text/plain": [
              "               year  household_size  Respondent Age\n",
              "count  32074.000000    32033.000000    32025.000000\n",
              "mean    2016.785964        3.722630       38.908759\n",
              "std        0.864167        2.236393       16.489457\n",
              "min     2016.000000        0.000000       16.000000\n",
              "25%     2016.000000        2.000000       26.000000\n",
              "50%     2017.000000        3.000000       35.000000\n",
              "75%     2018.000000        5.000000       49.000000\n",
              "max     2056.000000       21.000000      100.000000"
            ]
          },
          "metadata": {
            "tags": []
          },
          "execution_count": 7
        }
      ]
    },
    {
      "cell_type": "markdown",
      "metadata": {
        "id": "FlBMxEDBUc9B",
        "colab_type": "text"
      },
      "source": [
        "## 4. Tidying the Dataset"
      ]
    },
    {
      "cell_type": "code",
      "metadata": {
        "id": "5o_bQcT5W3Wz",
        "colab_type": "code",
        "colab": {
          "base_uri": "https://localhost:8080/",
          "height": 296
        },
        "outputId": "540038cc-06cc-4324-d484-bd7d2b1071e9"
      },
      "source": [
        "# Checking for Outliers\n",
        "#Let's start with the column year\n",
        "sns.boxplot(x=data['year'])\n",
        "#There are 3 points shown outside the boxplot which are our outliers"
      ],
      "execution_count": 8,
      "outputs": [
        {
          "output_type": "execute_result",
          "data": {
            "text/plain": [
              "<matplotlib.axes._subplots.AxesSubplot at 0x7f9832815710>"
            ]
          },
          "metadata": {
            "tags": []
          },
          "execution_count": 8
        },
        {
          "output_type": "display_data",
          "data": {
            "image/png": "[encoded data removed]",
            "text/plain": [
              "<Figure size 432x288 with 1 Axes>"
            ]
          },
          "metadata": {
            "tags": [],
            "needs_background": "light"
          }
        }
      ]
    },
    {
      "cell_type": "code",
      "metadata": {
        "id": "7vpaXpiPVcJJ",
        "colab_type": "code",
        "colab": {
          "base_uri": "https://localhost:8080/",
          "height": 34
        },
        "outputId": "c287540e-57a5-453a-95bb-46345cbb5dbd"
      },
      "source": [
        "#Removing outliers in the year column\n",
        "outliers = data[data['year'] > 2018].index\n",
        "data.drop(outliers , inplace=True)\n",
        "data.shape"
      ],
      "execution_count": 9,
      "outputs": [
        {
          "output_type": "execute_result",
          "data": {
            "text/plain": [
              "(32071, 13)"
            ]
          },
          "metadata": {
            "tags": []
          },
          "execution_count": 9
        }
      ]
    },
    {
      "cell_type": "code",
      "metadata": {
        "id": "kFx8y6LSP9K0",
        "colab_type": "code",
        "colab": {
          "base_uri": "https://localhost:8080/",
          "height": 296
        },
        "outputId": "bb5f3b0a-b37b-45eb-8ea8-0a6733b0fa9a"
      },
      "source": [
        "#Checking for outliers in the column age\n",
        "sns.boxplot(x=data['Respondent Age'])\n",
        "#From output, there are a number of outliers for ages between 80 to 100"
      ],
      "execution_count": 10,
      "outputs": [
        {
          "output_type": "execute_result",
          "data": {
            "text/plain": [
              "<matplotlib.axes._subplots.AxesSubplot at 0x7f98327619b0>"
            ]
          },
          "metadata": {
            "tags": []
          },
          "execution_count": 10
        },
        {
          "output_type": "display_data",
          "data": {
            "image/png": "[encoded data removed]",
            "text/plain": [
              "<Figure size 432x288 with 1 Axes>"
            ]
          },
          "metadata": {
            "tags": [],
            "needs_background": "light"
          }
        }
      ]
    },
    {
      "cell_type": "code",
      "metadata": {
        "id": "EKrnkcGSQntp",
        "colab_type": "code",
        "colab": {
          "base_uri": "https://localhost:8080/",
          "height": 297
        },
        "outputId": "55f75f5b-ea33-44ae-d471-5da5a43126ad"
      },
      "source": [
        "#Checking for outliers in the household size column\n",
        "sns.boxplot(x=data['household_size'])\n",
        "#From output, we can conclude that their are a few families with a household \n",
        "#size of between 10 and 21"
      ],
      "execution_count": 11,
      "outputs": [
        {
          "output_type": "execute_result",
          "data": {
            "text/plain": [
              "<matplotlib.axes._subplots.AxesSubplot at 0x7f98322fbc50>"
            ]
          },
          "metadata": {
            "tags": []
          },
          "execution_count": 11
        },
        {
          "output_type": "display_data",
          "data": {
            "image/png": "[encoded data removed]",
            "text/plain": [
              "<Figure size 432x288 with 1 Axes>"
            ]
          },
          "metadata": {
            "tags": [],
            "needs_background": "light"
          }
        }
      ]
    },
    {
      "cell_type": "code",
      "metadata": {
        "id": "PWlukLKUvFQN",
        "colab_type": "code",
        "colab": {
          "base_uri": "https://localhost:8080/",
          "height": 51
        },
        "outputId": "1e7884f3-89cc-438e-b0d8-e40fdfa7897b"
      },
      "source": [
        "# Checking for Anomalies\n",
        "data['household_size'].unique()"
      ],
      "execution_count": 12,
      "outputs": [
        {
          "output_type": "execute_result",
          "data": {
            "text/plain": [
              "array([ 3.,  5.,  8.,  7.,  1.,  6.,  4., 10.,  2., 11.,  9., 12., 16.,\n",
              "       15., 13., 14., 21., nan,  0., 18., 17., 20.])"
            ]
          },
          "metadata": {
            "tags": []
          },
          "execution_count": 12
        }
      ]
    },
    {
      "cell_type": "code",
      "metadata": {
        "id": "W9vpd3zUZ_G_",
        "colab_type": "code",
        "colab": {
          "base_uri": "https://localhost:8080/",
          "height": 221
        },
        "outputId": "909fb4f0-ee8f-461b-edc6-f4de4ea73f6c"
      },
      "source": [
        "#Removing the outliers/anomalies using percentile\n",
        "max_threshold = data['household_size'].quantile(0.95)\n",
        "print(max_threshold)\n",
        "data2 = data[data['household_size']<= max_threshold]\n",
        "print(data2.shape)\n",
        "print(data2.describe())\n",
        "print(data2['household_size'].unique())"
      ],
      "execution_count": 13,
      "outputs": [
        {
          "output_type": "stream",
          "text": [
            "8.0\n",
            "(31113, 13)\n",
            "               year  household_size  Respondent Age\n",
            "count  31113.000000    31113.000000    31079.000000\n",
            "mean    2016.775592        3.538103       39.011712\n",
            "std        0.817281        1.974095       16.531587\n",
            "min     2016.000000        0.000000       16.000000\n",
            "25%     2016.000000        2.000000       26.000000\n",
            "50%     2017.000000        3.000000       35.000000\n",
            "75%     2017.000000        5.000000       49.000000\n",
            "max     2018.000000        8.000000      100.000000\n",
            "[3. 5. 8. 7. 1. 6. 4. 2. 0.]\n"
          ],
          "name": "stdout"
        }
      ]
    },
    {
      "cell_type": "code",
      "metadata": {
        "id": "0x7_V23gevL4",
        "colab_type": "code",
        "colab": {
          "base_uri": "https://localhost:8080/",
          "height": 377
        },
        "outputId": "0b1950b3-fb8a-4a54-8e71-5c96c950c8cf"
      },
      "source": [
        "#Resetting indexes for new dataframe \n",
        "data2.reset_index().head()"
      ],
      "execution_count": 14,
      "outputs": [
        {
          "output_type": "execute_result",
          "data": {
            "text/html": [
              "<div>\n",
              "<style scoped>\n",
              "    .dataframe tbody tr th:only-of-type {\n",
              "        vertical-align: middle;\n",
              "    }\n",
              "\n",
              "    .dataframe tbody tr th {\n",
              "        vertical-align: top;\n",
              "    }\n",
              "\n",
              "    .dataframe thead th {\n",
              "        text-align: right;\n",
              "    }\n",
              "</style>\n",
              "<table border=\"1\" class=\"dataframe\">\n",
              "  <thead>\n",
              "    <tr style=\"text-align: right;\">\n",
              "      <th></th>\n",
              "      <th>index</th>\n",
              "      <th>country</th>\n",
              "      <th>year</th>\n",
              "      <th>uniqueid</th>\n",
              "      <th>Has a Bank account</th>\n",
              "      <th>Type of Location</th>\n",
              "      <th>Cell Phone Access</th>\n",
              "      <th>household_size</th>\n",
              "      <th>Respondent Age</th>\n",
              "      <th>gender_of_respondent</th>\n",
              "      <th>The relathip with head</th>\n",
              "      <th>marital_status</th>\n",
              "      <th>Level of Educuation</th>\n",
              "      <th>Type of Job</th>\n",
              "    </tr>\n",
              "  </thead>\n",
              "  <tbody>\n",
              "    <tr>\n",
              "      <th>0</th>\n",
              "      <td>0</td>\n",
              "      <td>Kenya</td>\n",
              "      <td>2018</td>\n",
              "      <td>uniqueid_1</td>\n",
              "      <td>Yes</td>\n",
              "      <td>Rural</td>\n",
              "      <td>Yes</td>\n",
              "      <td>3.0</td>\n",
              "      <td>24.0</td>\n",
              "      <td>Female</td>\n",
              "      <td>Spouse</td>\n",
              "      <td>Married/Living together</td>\n",
              "      <td>Secondary education</td>\n",
              "      <td>Self employed</td>\n",
              "    </tr>\n",
              "    <tr>\n",
              "      <th>1</th>\n",
              "      <td>1</td>\n",
              "      <td>Kenya</td>\n",
              "      <td>2018</td>\n",
              "      <td>uniqueid_2</td>\n",
              "      <td>No</td>\n",
              "      <td>Rural</td>\n",
              "      <td>No</td>\n",
              "      <td>5.0</td>\n",
              "      <td>70.0</td>\n",
              "      <td>Female</td>\n",
              "      <td>Head of Household</td>\n",
              "      <td>Widowed</td>\n",
              "      <td>No formal education</td>\n",
              "      <td>Government Dependent</td>\n",
              "    </tr>\n",
              "    <tr>\n",
              "      <th>2</th>\n",
              "      <td>2</td>\n",
              "      <td>Kenya</td>\n",
              "      <td>2018</td>\n",
              "      <td>uniqueid_3</td>\n",
              "      <td>Yes</td>\n",
              "      <td>Urban</td>\n",
              "      <td>Yes</td>\n",
              "      <td>5.0</td>\n",
              "      <td>26.0</td>\n",
              "      <td>Male</td>\n",
              "      <td>Other relative</td>\n",
              "      <td>Single/Never Married</td>\n",
              "      <td>Vocational/Specialised training</td>\n",
              "      <td>Self employed</td>\n",
              "    </tr>\n",
              "    <tr>\n",
              "      <th>3</th>\n",
              "      <td>3</td>\n",
              "      <td>Kenya</td>\n",
              "      <td>2018</td>\n",
              "      <td>uniqueid_4</td>\n",
              "      <td>No</td>\n",
              "      <td>Rural</td>\n",
              "      <td>Yes</td>\n",
              "      <td>5.0</td>\n",
              "      <td>34.0</td>\n",
              "      <td>Female</td>\n",
              "      <td>Head of Household</td>\n",
              "      <td>Married/Living together</td>\n",
              "      <td>Primary education</td>\n",
              "      <td>Formally employed Private</td>\n",
              "    </tr>\n",
              "    <tr>\n",
              "      <th>4</th>\n",
              "      <td>4</td>\n",
              "      <td>Kenya</td>\n",
              "      <td>2018</td>\n",
              "      <td>uniqueid_5</td>\n",
              "      <td>No</td>\n",
              "      <td>Urban</td>\n",
              "      <td>No</td>\n",
              "      <td>8.0</td>\n",
              "      <td>26.0</td>\n",
              "      <td>Male</td>\n",
              "      <td>Child</td>\n",
              "      <td>Single/Never Married</td>\n",
              "      <td>Primary education</td>\n",
              "      <td>Informally employed</td>\n",
              "    </tr>\n",
              "  </tbody>\n",
              "</table>\n",
              "</div>"
            ],
            "text/plain": [
              "   index country  ...              Level of Educuation                Type of Job\n",
              "0      0   Kenya  ...              Secondary education              Self employed\n",
              "1      1   Kenya  ...              No formal education       Government Dependent\n",
              "2      2   Kenya  ...  Vocational/Specialised training              Self employed\n",
              "3      3   Kenya  ...                Primary education  Formally employed Private\n",
              "4      4   Kenya  ...                Primary education        Informally employed\n",
              "\n",
              "[5 rows x 14 columns]"
            ]
          },
          "metadata": {
            "tags": []
          },
          "execution_count": 14
        }
      ]
    },
    {
      "cell_type": "code",
      "metadata": {
        "id": "rCCOLjhMhaRH",
        "colab_type": "code",
        "colab": {
          "base_uri": "https://localhost:8080/",
          "height": 170
        },
        "outputId": "9ac30d99-18bd-428f-b828-416d480cf6bd"
      },
      "source": [
        "#Changing column names\n",
        "data2.rename(columns={'Has a Bank account':'bank_acc',\n",
        "                          'Type of Location':'residence', 'Respondent Age' : 'age', 'gender_of_respondent':'gender',\n",
        "                          'Level of Educuation':'education', 'Type of Job': 'job'}, \n",
        "                 inplace=True)\n",
        "data2.columns"
      ],
      "execution_count": 15,
      "outputs": [
        {
          "output_type": "stream",
          "text": [
            "/usr/local/lib/python3.6/dist-packages/pandas/core/frame.py:4133: SettingWithCopyWarning: \n",
            "A value is trying to be set on a copy of a slice from a DataFrame\n",
            "\n",
            "See the caveats in the documentation: https://pandas.pydata.org/pandas-docs/stable/user_guide/indexing.html#returning-a-view-versus-a-copy\n",
            "  errors=errors,\n"
          ],
          "name": "stderr"
        },
        {
          "output_type": "execute_result",
          "data": {
            "text/plain": [
              "Index(['country', 'year', 'uniqueid', 'bank_acc', 'residence',\n",
              "       'Cell Phone Access', 'household_size', 'age', 'gender',\n",
              "       'The relathip with head', 'marital_status', 'education', 'job'],\n",
              "      dtype='object')"
            ]
          },
          "metadata": {
            "tags": []
          },
          "execution_count": 15
        }
      ]
    },
    {
      "cell_type": "code",
      "metadata": {
        "id": "D611eu3SkUuw",
        "colab_type": "code",
        "colab": {
          "base_uri": "https://localhost:8080/",
          "height": 68
        },
        "outputId": "88b9fdc3-9de2-4bf7-90fc-5f4a3cd8c81e"
      },
      "source": [
        "#Dropping unnecessary columns\n",
        "data2 = data2.drop(['uniqueid', 'Cell Phone Access', 'The relathip with head', 'marital_status'], axis = 1)\n",
        "print(data2.columns)"
      ],
      "execution_count": 16,
      "outputs": [
        {
          "output_type": "stream",
          "text": [
            "Index(['country', 'year', 'bank_acc', 'residence', 'household_size', 'age',\n",
            "       'gender', 'education', 'job'],\n",
            "      dtype='object')\n"
          ],
          "name": "stdout"
        }
      ]
    },
    {
      "cell_type": "code",
      "metadata": {
        "id": "PvCYb6dgW4yh",
        "colab_type": "code",
        "colab": {
          "base_uri": "https://localhost:8080/",
          "height": 187
        },
        "outputId": "be320e40-fe3d-4d73-b64d-2a00beaa55fb"
      },
      "source": [
        "# Identifying the Missing Data\n",
        "#\n",
        "data2.isnull().sum()"
      ],
      "execution_count": 17,
      "outputs": [
        {
          "output_type": "execute_result",
          "data": {
            "text/plain": [
              "country           14\n",
              "year               0\n",
              "bank_acc          40\n",
              "residence         23\n",
              "household_size     0\n",
              "age               34\n",
              "gender            31\n",
              "education         48\n",
              "job               50\n",
              "dtype: int64"
            ]
          },
          "metadata": {
            "tags": []
          },
          "execution_count": 17
        }
      ]
    },
    {
      "cell_type": "code",
      "metadata": {
        "id": "MpsDGKZHsf_W",
        "colab_type": "code",
        "colab": {
          "base_uri": "https://localhost:8080/",
          "height": 204
        },
        "outputId": "f5732b7f-de22-48c7-de99-4e30123f186d"
      },
      "source": [
        "# Dealing with the Missing Data\n",
        "#Removing all rows where having a bank account is null\n",
        "data3 = data2[data2['bank_acc'].notna()] \n",
        "data3.shape\n",
        "data3 = data3.reset_index(drop = True) \n",
        "#Drop all columns where value is NaN\n",
        "data3 = data3[data3['gender'].notna()] \n",
        "print(data3.shape)\n",
        "#data3.isnull().sum()\n",
        "data_df = data3.dropna(axis=0, inplace=False)\n",
        "data_df.isnull().sum()"
      ],
      "execution_count": 18,
      "outputs": [
        {
          "output_type": "stream",
          "text": [
            "(31042, 9)\n"
          ],
          "name": "stdout"
        },
        {
          "output_type": "execute_result",
          "data": {
            "text/plain": [
              "country           0\n",
              "year              0\n",
              "bank_acc          0\n",
              "residence         0\n",
              "household_size    0\n",
              "age               0\n",
              "gender            0\n",
              "education         0\n",
              "job               0\n",
              "dtype: int64"
            ]
          },
          "metadata": {
            "tags": []
          },
          "execution_count": 18
        }
      ]
    },
    {
      "cell_type": "code",
      "metadata": {
        "id": "M49RTC1nYZTG",
        "colab_type": "code",
        "colab": {
          "base_uri": "https://localhost:8080/",
          "height": 34
        },
        "outputId": "f64f6392-4ded-4878-8ccc-6f194bba2d14"
      },
      "source": [
        "#Check for duplicates \n",
        "data_df = data_df.drop_duplicates(inplace=False)\n",
        "data_df.shape\n",
        "\n"
      ],
      "execution_count": 19,
      "outputs": [
        {
          "output_type": "execute_result",
          "data": {
            "text/plain": [
              "(14834, 9)"
            ]
          },
          "metadata": {
            "tags": []
          },
          "execution_count": 19
        }
      ]
    },
    {
      "cell_type": "code",
      "metadata": {
        "id": "4G_9v5kQvK2Z",
        "colab_type": "code",
        "colab": {
          "base_uri": "https://localhost:8080/",
          "height": 289
        },
        "outputId": "0c592aae-0143-4b42-a161-3a9a9835ce03"
      },
      "source": [
        "#Converting datatypes\n",
        "#convert column year from int64 to datetime\n",
        "#and residence to category\n",
        "data_df['country'] = data_df['country'].astype('category')\n",
        "data_df['bank_acc'] = data_df['bank_acc'].astype('category')\n",
        "data_df['residence'] = data_df['residence'].astype('category')\n",
        "data_df['gender'] = data_df['gender'].astype('category')\n",
        "data_df['education'] = data_df['education'].astype('category')\n",
        "data_df['year']= pd.to_datetime(data_df['year']) \n",
        "data_df['job'] = data_df['job'].astype('category')\n",
        "data_df.info()"
      ],
      "execution_count": 20,
      "outputs": [
        {
          "output_type": "stream",
          "text": [
            "<class 'pandas.core.frame.DataFrame'>\n",
            "Int64Index: 14834 entries, 0 to 31072\n",
            "Data columns (total 9 columns):\n",
            " #   Column          Non-Null Count  Dtype         \n",
            "---  ------          --------------  -----         \n",
            " 0   country         14834 non-null  category      \n",
            " 1   year            14834 non-null  datetime64[ns]\n",
            " 2   bank_acc        14834 non-null  category      \n",
            " 3   residence       14834 non-null  category      \n",
            " 4   household_size  14834 non-null  float64       \n",
            " 5   age             14834 non-null  float64       \n",
            " 6   gender          14834 non-null  category      \n",
            " 7   education       14834 non-null  category      \n",
            " 8   job             14834 non-null  category      \n",
            "dtypes: category(6), datetime64[ns](1), float64(2)\n",
            "memory usage: 551.7 KB\n"
          ],
          "name": "stdout"
        }
      ]
    },
    {
      "cell_type": "code",
      "metadata": {
        "id": "RncEsA7v-dDm",
        "colab_type": "code",
        "colab": {}
      },
      "source": [
        "mean_householdsize = data_df['household_size'].mean()\n",
        "\n",
        "data_df['household_size']=data_df.household_size.mask(data_df.household_size == 0,mean_householdsize)"
      ],
      "execution_count": 21,
      "outputs": []
    },
    {
      "cell_type": "markdown",
      "metadata": {
        "id": "rF2ABPsHUtbZ",
        "colab_type": "text"
      },
      "source": [
        "## 5. Exploratory Analysis"
      ]
    },
    {
      "cell_type": "markdown",
      "metadata": {
        "id": "1yrEIEOkxTF7",
        "colab_type": "text"
      },
      "source": [
        "**Univariate Analysis**:\n",
        "We will be dealing with numerical variables and we will be checking the following properties:\n",
        "\n",
        "Mean\n",
        "Median\n",
        "Standard Deviation\n",
        "Kurtosis/skewness\n",
        "distribution/range\n",
        "We will also plot to visualize our data each at a time\n",
        "\n"
      ]
    },
    {
      "cell_type": "code",
      "metadata": {
        "id": "Bndvc_d91NUt",
        "colab_type": "code",
        "colab": {
          "base_uri": "https://localhost:8080/",
          "height": 187
        },
        "outputId": "dc8ed4be-fe6a-4771-c501-a938e1c87f20"
      },
      "source": [
        "#Calculate measures of central tendency\n",
        "data_df.mean()\n",
        "print(data_df.mean())\n",
        "data_df.mode()\n",
        "print(data_df.mode())\n",
        "data_df.median()\n",
        "print(data_df.median())\n"
      ],
      "execution_count": 22,
      "outputs": [
        {
          "output_type": "stream",
          "text": [
            "household_size     3.616130\n",
            "age               40.245652\n",
            "dtype: float64\n",
            "  country                          year  ...          education            job\n",
            "0  Rwanda 1970-01-01 00:00:00.000002018  ...  Primary education  Self employed\n",
            "\n",
            "[1 rows x 9 columns]\n",
            "household_size     3.0\n",
            "age               36.0\n",
            "dtype: float64\n"
          ],
          "name": "stdout"
        }
      ]
    },
    {
      "cell_type": "code",
      "metadata": {
        "id": "487yrBgK4bSp",
        "colab_type": "code",
        "colab": {
          "base_uri": "https://localhost:8080/",
          "height": 119
        },
        "outputId": "f2639109-d621-49ac-a39e-f40811970d0f"
      },
      "source": [
        "#Get min, max and range\n",
        "#for age\n",
        "min_age = data_df['age'].min()\n",
        "print(min_age)\n",
        "max_age = data_df['age'].max()\n",
        "print(max_age)\n",
        "range_age = max_age - min_age\n",
        "print(range_age)\n",
        "#For household size\n",
        "min_size = data_df['household_size'].min()\n",
        "print(min_size)\n",
        "max_size = data_df['household_size'].max()\n",
        "print(max_size)\n",
        "range_size = max_size - min_size\n",
        "print(range_size)"
      ],
      "execution_count": 23,
      "outputs": [
        {
          "output_type": "stream",
          "text": [
            "16.0\n",
            "100.0\n",
            "84.0\n",
            "1.0\n",
            "8.0\n",
            "7.0\n"
          ],
          "name": "stdout"
        }
      ]
    },
    {
      "cell_type": "code",
      "metadata": {
        "id": "Yy9Q6M2WLcDC",
        "colab_type": "code",
        "colab": {
          "base_uri": "https://localhost:8080/",
          "height": 153
        },
        "outputId": "18e3b117-3f42-4be2-a5cf-ce7b6986d8bd"
      },
      "source": [
        "#Calculate quantiles\n",
        "quantile_age = data_df[\"age\"].quantile([0.25,0.5,0.75])\n",
        "print(quantile_age)\n",
        "quantile_size = data_df[\"household_size\"].quantile([0.25,0.5,0.75])\n",
        "print(quantile_size)"
      ],
      "execution_count": 24,
      "outputs": [
        {
          "output_type": "stream",
          "text": [
            "0.25    26.0\n",
            "0.50    36.0\n",
            "0.75    52.0\n",
            "Name: age, dtype: float64\n",
            "0.25    2.0\n",
            "0.50    3.0\n",
            "0.75    5.0\n",
            "Name: household_size, dtype: float64\n"
          ],
          "name": "stdout"
        }
      ]
    },
    {
      "cell_type": "code",
      "metadata": {
        "id": "6p2ns-EsAlRx",
        "colab_type": "code",
        "colab": {
          "base_uri": "https://localhost:8080/",
          "height": 170
        },
        "outputId": "0593fb7d-9151-4c92-9a88-3303c60406af"
      },
      "source": [
        "#Calculating measures of dispersion\n",
        "st_dev = data_df.std()\n",
        "print(st_dev)\n",
        "skew = data_df.skew()\n",
        "print(skew)\n",
        "kurt = data_df.kurtosis()\n",
        "print(kurt)"
      ],
      "execution_count": 25,
      "outputs": [
        {
          "output_type": "stream",
          "text": [
            "household_size     2.039625\n",
            "age               17.443507\n",
            "dtype: float64\n",
            "household_size    0.444242\n",
            "age               0.750009\n",
            "dtype: float64\n",
            "household_size   -0.833911\n",
            "age              -0.159222\n",
            "dtype: float64\n"
          ],
          "name": "stdout"
        }
      ]
    },
    {
      "cell_type": "markdown",
      "metadata": {
        "id": "2vPBqBsrFpBu",
        "colab_type": "text"
      },
      "source": [
        "Summary \n",
        "\n",
        "1.  The mean age is 40.25, Rwanda had the highest number of entries, the data for age was positively skewed at 0.75 meaning data is moderately skewed and kurtosis of -0.16. \n",
        "2.   The mean household size is 3.61, Rwanda had the highest number of entries, the data for age was positively skewed at 0.44 meaning data is approximately skewed and kurtosis of -0.83. \n",
        "\n",
        "\n"
      ]
    },
    {
      "cell_type": "code",
      "metadata": {
        "id": "5nnRToniXGDK",
        "colab_type": "code",
        "colab": {
          "base_uri": "https://localhost:8080/",
          "height": 102
        },
        "outputId": "611643be-7874-41c3-b514-b6f1175bf48a"
      },
      "source": [
        "# Univariate Analysis\n",
        "#Frequency tables\n",
        "data_df.country.value_counts()"
      ],
      "execution_count": 26,
      "outputs": [
        {
          "output_type": "execute_result",
          "data": {
            "text/plain": [
              "Rwanda      5069\n",
              "Kenya       4819\n",
              "Tanzania    3375\n",
              "Uganda      1571\n",
              "Name: country, dtype: int64"
            ]
          },
          "metadata": {
            "tags": []
          },
          "execution_count": 26
        }
      ]
    },
    {
      "cell_type": "code",
      "metadata": {
        "id": "1MPUtkdgJFav",
        "colab_type": "code",
        "colab": {
          "base_uri": "https://localhost:8080/",
          "height": 295
        },
        "outputId": "83d6d688-ca0c-49ed-9718-8213eb5268e9"
      },
      "source": [
        "#Plotting a age histogram\n",
        "age_points = data_df['age']\n",
        "\n",
        "plt.hist(age_points, bins=10, histtype='bar', rwidth=0.9)\n",
        "plt.xlabel('Ages')\n",
        "plt.ylabel('Frequency')\n",
        "plt.title('Histogram of age vs frequency')\n",
        "plt.show()\n",
        "#We can conclude that the greater population in the dataset is between the ages\n",
        "# of 25 and 30."
      ],
      "execution_count": 27,
      "outputs": [
        {
          "output_type": "display_data",
          "data": {
            "image/png": "[encoded data removed]",
            "text/plain": [
              "<Figure size 432x288 with 1 Axes>"
            ]
          },
          "metadata": {
            "tags": [],
            "needs_background": "light"
          }
        }
      ]
    },
    {
      "cell_type": "code",
      "metadata": {
        "id": "6UzyQC6kmdBi",
        "colab_type": "code",
        "colab": {
          "base_uri": "https://localhost:8080/",
          "height": 295
        },
        "outputId": "05f75e5e-e2c0-4fcd-f16c-64aad9eb8fb4"
      },
      "source": [
        "#Plotting a age histogram\n",
        "size_points = data_df['household_size']\n",
        "\n",
        "plt.hist(size_points, bins=8, histtype='bar', rwidth=0.9)\n",
        "plt.xlabel('Household sizes')\n",
        "plt.ylabel('Frequency')\n",
        "plt.title('Histogram of Household_sizes vs frequency')\n",
        "plt.show()\n",
        "#We can conclude that the greater population in the dataset has a household size\n",
        "#of between 2 to 3"
      ],
      "execution_count": 28,
      "outputs": [
        {
          "output_type": "display_data",
          "data": {
            "image/png": "[encoded data removed]",
            "text/plain": [
              "<Figure size 432x288 with 1 Axes>"
            ]
          },
          "metadata": {
            "tags": [],
            "needs_background": "light"
          }
        }
      ]
    },
    {
      "cell_type": "code",
      "metadata": {
        "id": "TwhaYpHbOhtF",
        "colab_type": "code",
        "colab": {
          "base_uri": "https://localhost:8080/",
          "height": 269
        },
        "outputId": "c7c3da6d-d526-4fba-c6b5-aba0a97925ce"
      },
      "source": [
        "#pie chart for countries\n",
        "data_df.country.value_counts().plot(kind='pie',autopct='%1.1f%%', shadow = True, startangle = 90 )\n",
        "plt.axis('equal')\n",
        "plt.title('Pie chart of percentage respondents per country')\n",
        "plt.show()\n",
        "#We can conclude that Rwanda has the highest number of respondents in this study\n",
        "#at 34.2% and Uganda the lowest at 10.6%"
      ],
      "execution_count": 29,
      "outputs": [
        {
          "output_type": "display_data",
          "data": {
            "image/png": "[encoded data removed]",
            "text/plain": [
              "<Figure size 432x288 with 1 Axes>"
            ]
          },
          "metadata": {
            "tags": []
          }
        }
      ]
    },
    {
      "cell_type": "markdown",
      "metadata": {
        "id": "Pcl4zl0nI-AO",
        "colab_type": "text"
      },
      "source": [
        "**Summary**\n",
        "1.  Greater population in the dataset is between the ages of 25 and 30.\n",
        "2.  Most respondents have a household size of between 2 and 3\n",
        "3. Rwanda had the highest number of respondents while Uganda had the least\n",
        "\n"
      ]
    },
    {
      "cell_type": "markdown",
      "metadata": {
        "id": "Yec_xL0rTmGE",
        "colab_type": "text"
      },
      "source": [
        "**Bivariate Analysis**: At this point we will perform Bivariate analysis, check relationships and differences between two variables. We will start with Numeric-Numeric variables, then Categorical-Categorical and lastly Categorical-Numeric variables"
      ]
    },
    {
      "cell_type": "code",
      "metadata": {
        "id": "OAq_ti9eW3o5",
        "colab_type": "code",
        "colab": {
          "base_uri": "https://localhost:8080/",
          "height": 68
        },
        "outputId": "87d5f7ea-174e-4c7b-948c-543a2eafa499"
      },
      "source": [
        "#Numeric-Numeric Variables\n",
        "#Checking for numeric variables in our data\n",
        "#isolating numerical datatypes\n",
        "numerical = data_df.select_dtypes(include=['int64','float64','Int64'])[:]\n",
        "numerical.dtypes"
      ],
      "execution_count": 30,
      "outputs": [
        {
          "output_type": "execute_result",
          "data": {
            "text/plain": [
              "household_size    float64\n",
              "age               float64\n",
              "dtype: object"
            ]
          },
          "metadata": {
            "tags": []
          },
          "execution_count": 30
        }
      ]
    },
    {
      "cell_type": "code",
      "metadata": {
        "id": "z6zop2JxXZcF",
        "colab_type": "code",
        "colab": {
          "base_uri": "https://localhost:8080/",
          "height": 111
        },
        "outputId": "94ad9d56-775b-4b22-c7cf-f9c23ec6dde8"
      },
      "source": [
        "#Calculating correlation\n",
        "correlation = numerical.dropna().corr()\n",
        "correlation"
      ],
      "execution_count": 31,
      "outputs": [
        {
          "output_type": "execute_result",
          "data": {
            "text/html": [
              "<div>\n",
              "<style scoped>\n",
              "    .dataframe tbody tr th:only-of-type {\n",
              "        vertical-align: middle;\n",
              "    }\n",
              "\n",
              "    .dataframe tbody tr th {\n",
              "        vertical-align: top;\n",
              "    }\n",
              "\n",
              "    .dataframe thead th {\n",
              "        text-align: right;\n",
              "    }\n",
              "</style>\n",
              "<table border=\"1\" class=\"dataframe\">\n",
              "  <thead>\n",
              "    <tr style=\"text-align: right;\">\n",
              "      <th></th>\n",
              "      <th>household_size</th>\n",
              "      <th>age</th>\n",
              "    </tr>\n",
              "  </thead>\n",
              "  <tbody>\n",
              "    <tr>\n",
              "      <th>household_size</th>\n",
              "      <td>1.000000</td>\n",
              "      <td>-0.127624</td>\n",
              "    </tr>\n",
              "    <tr>\n",
              "      <th>age</th>\n",
              "      <td>-0.127624</td>\n",
              "      <td>1.000000</td>\n",
              "    </tr>\n",
              "  </tbody>\n",
              "</table>\n",
              "</div>"
            ],
            "text/plain": [
              "                household_size       age\n",
              "household_size        1.000000 -0.127624\n",
              "age                  -0.127624  1.000000"
            ]
          },
          "metadata": {
            "tags": []
          },
          "execution_count": 31
        }
      ]
    },
    {
      "cell_type": "code",
      "metadata": {
        "id": "3EO7O_jCXhJ_",
        "colab_type": "code",
        "colab": {
          "base_uri": "https://localhost:8080/",
          "height": 287
        },
        "outputId": "33923dc4-bfb0-48f6-b4a9-194a53d86661"
      },
      "source": [
        "#plotting a correlation heatmap\n",
        "sns.heatmap(correlation, xticklabels=correlation.columns, yticklabels=correlation.columns, annot=True)\n",
        "#There is basically no correlation between household size and age of respondents"
      ],
      "execution_count": 32,
      "outputs": [
        {
          "output_type": "execute_result",
          "data": {
            "text/plain": [
              "<matplotlib.axes._subplots.AxesSubplot at 0x7f9830d14588>"
            ]
          },
          "metadata": {
            "tags": []
          },
          "execution_count": 32
        },
        {
          "output_type": "display_data",
          "data": {
            "image/png": "[encoded data removed]",
            "text/plain": [
              "<Figure size 432x288 with 2 Axes>"
            ]
          },
          "metadata": {
            "tags": [],
            "needs_background": "light"
          }
        }
      ]
    },
    {
      "cell_type": "code",
      "metadata": {
        "id": "jO6MwnALb9s5",
        "colab_type": "code",
        "colab": {
          "base_uri": "https://localhost:8080/",
          "height": 296
        },
        "outputId": "a5969d09-1e48-40ea-d6ac-80cb264abb85"
      },
      "source": [
        "#Plotting scatter plots\n",
        "plt.scatter(numerical[\"household_size\"] , data_df[\"age\"])\n",
        "\n",
        "# Giving our scatterplot a title\n",
        "plt.title('Household size vs Age')\n",
        "\n",
        "# Labelling our x axis\n",
        "plt.xlabel('Household_size')\n",
        "\n",
        "# Labelling our y axis\n",
        "plt.ylabel('Age')\n",
        "\n",
        "# We then display our scatterplot as shown below\n",
        "plt.show()"
      ],
      "execution_count": 33,
      "outputs": [
        {
          "output_type": "display_data",
          "data": {
            "image/png": "[encoded data removed]",
            "text/plain": [
              "<Figure size 432x288 with 1 Axes>"
            ]
          },
          "metadata": {
            "tags": [],
            "needs_background": "light"
          }
        }
      ]
    },
    {
      "cell_type": "code",
      "metadata": {
        "id": "FLYyydDKdqho",
        "colab_type": "code",
        "colab": {
          "base_uri": "https://localhost:8080/",
          "height": 187
        },
        "outputId": "c0f297a7-ac3f-4cb6-a6b8-5608b8f50a53"
      },
      "source": [
        "#Categorical-categorical\n",
        "data_df.dtypes"
      ],
      "execution_count": 34,
      "outputs": [
        {
          "output_type": "execute_result",
          "data": {
            "text/plain": [
              "country                 category\n",
              "year              datetime64[ns]\n",
              "bank_acc                category\n",
              "residence               category\n",
              "household_size           float64\n",
              "age                      float64\n",
              "gender                  category\n",
              "education               category\n",
              "job                     category\n",
              "dtype: object"
            ]
          },
          "metadata": {
            "tags": []
          },
          "execution_count": 34
        }
      ]
    },
    {
      "cell_type": "code",
      "metadata": {
        "id": "mbJtXTytq3TS",
        "colab_type": "code",
        "colab": {
          "base_uri": "https://localhost:8080/",
          "height": 347
        },
        "outputId": "84136f2f-c810-4730-b664-f52a90225c7a"
      },
      "source": [
        "#Which genger is most likely to own a bank account\n",
        "ax1 = data_df.groupby('bank_acc')['gender'].value_counts(normalize=True).unstack()\n",
        "ax1.plot(kind='bar', stacked='True',title=str(ax1))\n",
        "int_level = data_df['bank_acc'].value_counts()\n",
        "#From output, we can conclude \n",
        "#the difference between the males and females who own a bank account is \n",
        "#significant. The number of Males who own a bank account is significantly more \n",
        "#than females."
      ],
      "execution_count": 35,
      "outputs": [
        {
          "output_type": "display_data",
          "data": {
            "image/png": "[encoded data removed]",
            "text/plain": [
              "<Figure size 432x288 with 1 Axes>"
            ]
          },
          "metadata": {
            "tags": [],
            "needs_background": "light"
          }
        }
      ]
    },
    {
      "cell_type": "code",
      "metadata": {
        "id": "QzAyPS6Hz0Mb",
        "colab_type": "code",
        "colab": {
          "base_uri": "https://localhost:8080/",
          "height": 347
        },
        "outputId": "cd7c1937-cda3-4961-c2da-8734df028d9e"
      },
      "source": [
        "#People from which kind of jobs are most likely to own a bank account\n",
        "ax2 = data_df.groupby('bank_acc')['job'].value_counts(normalize=True).unstack()\n",
        "ax2.plot(kind='bar', stacked='True',title=str(ax1))\n",
        "int_level = data_df['bank_acc'].value_counts()\n",
        "#From output, we can conclude \n",
        "#Individuals who are self employed are most likely to have a bank account and\n",
        "# those who are informally employed are less likely to have a bank account"
      ],
      "execution_count": 36,
      "outputs": [
        {
          "output_type": "display_data",
          "data": {
            "image/png": "[encoded data removed]",
            "text/plain": [
              "<Figure size 432x288 with 1 Axes>"
            ]
          },
          "metadata": {
            "tags": [],
            "needs_background": "light"
          }
        }
      ]
    },
    {
      "cell_type": "code",
      "metadata": {
        "id": "9Qq4o45X3bPO",
        "colab_type": "code",
        "colab": {
          "base_uri": "https://localhost:8080/",
          "height": 347
        },
        "outputId": "9728ea0a-0745-428d-d9d9-7dd10c6c88e3"
      },
      "source": [
        "#People from which kind of residence are most likely to own a bank account\n",
        "ax3 = data_df.groupby('bank_acc')['residence'].value_counts(normalize=True).unstack()\n",
        "ax3.plot(kind='bar', stacked='True',title=str(ax1))\n",
        "int_level = data_df['bank_acc'].value_counts()\n",
        "#From output, we can conclude \n",
        "#Individuals from urban setup are most likely to have a bank account and\n",
        "# those from rural areas are less likely to have a bank account"
      ],
      "execution_count": 37,
      "outputs": [
        {
          "output_type": "display_data",
          "data": {
            "image/png": "[encoded data removed]",
            "text/plain": [
              "<Figure size 432x288 with 1 Axes>"
            ]
          },
          "metadata": {
            "tags": [],
            "needs_background": "light"
          }
        }
      ]
    },
    {
      "cell_type": "code",
      "metadata": {
        "id": "4TIDyX4m39gm",
        "colab_type": "code",
        "colab": {
          "base_uri": "https://localhost:8080/",
          "height": 347
        },
        "outputId": "5c05cfbf-5e14-4b92-8733-005b9d925e6f"
      },
      "source": [
        "#Check whether people who are educated are most likely to own a bank account\n",
        "ax4 = data_df.groupby('bank_acc')['education'].value_counts(normalize=True).unstack()\n",
        "ax4.plot(kind='bar', stacked='True',title=str(ax1))\n",
        "int_level = data_df['bank_acc'].value_counts()\n",
        "#From output, we can conclude \n",
        "#Individuals with a secondary education are most likely to have a bank account and\n",
        "# those with a primary level education are less likely to have a bank account"
      ],
      "execution_count": 38,
      "outputs": [
        {
          "output_type": "display_data",
          "data": {
            "image/png": "[encoded data removed]",
            "text/plain": [
              "<Figure size 432x288 with 1 Axes>"
            ]
          },
          "metadata": {
            "tags": [],
            "needs_background": "light"
          }
        }
      ]
    },
    {
      "cell_type": "code",
      "metadata": {
        "id": "b0OVhX5i52bB",
        "colab_type": "code",
        "colab": {
          "base_uri": "https://localhost:8080/",
          "height": 347
        },
        "outputId": "2477167b-fdfc-4ceb-8f2f-efcdb96abcb5"
      },
      "source": [
        "#People from which country are most likely to own a bank account\n",
        "ax5 = data_df.groupby('bank_acc')['country'].value_counts(normalize=True).unstack()\n",
        "ax5.plot(kind='bar', stacked='True',title=str(ax1))\n",
        "int_level = data_df['bank_acc'].value_counts()\n",
        "#From output, we can conclude \n",
        "#Individuals from Kenya are most likely to have a bank account and\n",
        "# those Uganda are less likely to have a bank account"
      ],
      "execution_count": 39,
      "outputs": [
        {
          "output_type": "display_data",
          "data": {
            "image/png": "[encoded data removed]",
            "text/plain": [
              "<Figure size 432x288 with 1 Axes>"
            ]
          },
          "metadata": {
            "tags": [],
            "needs_background": "light"
          }
        }
      ]
    },
    {
      "cell_type": "code",
      "metadata": {
        "id": "sXDbOrsh_vCB",
        "colab_type": "code",
        "colab": {
          "base_uri": "https://localhost:8080/",
          "height": 347
        },
        "outputId": "e2fd1aff-7303-45f5-f067-cd5643904c65"
      },
      "source": [
        "#Numerical-Categorical Variables\n",
        "#create Age groups\n",
        "\n",
        "bins= [10,20,30,50,80,100]\n",
        "labels = ['Teen','Youth','Adult','Senior Citizen','Very old']\n",
        "data_df['AgeGroup'] = pd.cut(data_df['age'], bins=bins, labels=labels, right=False)\n",
        "data_df\n",
        "#People from which AgeGroup are most likely to own a bank account\n",
        "ax6 = data_df.groupby('bank_acc')['AgeGroup'].value_counts(normalize=True).unstack()\n",
        "ax6.plot(kind='bar', stacked='True',title=str(ax1))\n",
        "int_level = data_df['bank_acc'].value_counts()\n",
        "#From output, we can conclude  that\n",
        "#Individuals between the ages of 30_50, adults are most likely to have a bank \n",
        "# account and those above 80years are less likely to have a bank account\n"
      ],
      "execution_count": 40,
      "outputs": [
        {
          "output_type": "display_data",
          "data": {
            "image/png": "[encoded data removed]",
            "text/plain": [
              "<Figure size 432x288 with 1 Axes>"
            ]
          },
          "metadata": {
            "tags": [],
            "needs_background": "light"
          }
        }
      ]
    },
    {
      "cell_type": "code",
      "metadata": {
        "id": "qui0mHE3DLEe",
        "colab_type": "code",
        "colab": {
          "base_uri": "https://localhost:8080/",
          "height": 347
        },
        "outputId": "881cc8b2-8bd0-4336-e3c8-0ddc9ac48394"
      },
      "source": [
        "#create Household size groups\n",
        "\n",
        "bins= [1,2,4,6,8]\n",
        "labels = ['Small','Medium','Large','Very large']\n",
        "data_df['size'] = pd.cut(data_df['household_size'], bins=bins, labels=labels, right=False)\n",
        "data_df\n",
        "#People from which AgeGroup are most likely to own a bank account\n",
        "ax7 = data_df.groupby('bank_acc')['size'].value_counts(normalize=True).unstack()\n",
        "ax7.plot(kind='bar', stacked='True',title=str(ax1))\n",
        "int_level = data_df['bank_acc'].value_counts()\n",
        "#From output, we can conclude  that\n",
        "#Individuals from medium sized homes are most likely to have a bank \n",
        "# account and those from very large families are less likely to have a bank account\n"
      ],
      "execution_count": 41,
      "outputs": [
        {
          "output_type": "display_data",
          "data": {
            "image/png": "[encoded data removed]",
            "text/plain": [
              "<Figure size 432x288 with 1 Axes>"
            ]
          },
          "metadata": {
            "tags": [],
            "needs_background": "light"
          }
        }
      ]
    },
    {
      "cell_type": "markdown",
      "metadata": {
        "id": "rYCDYbkhKMXd",
        "colab_type": "text"
      },
      "source": [
        "**Summary**\n",
        "\n",
        "1.   The difference between the males and females who own a bank account is \n",
        "significant. The number of Males who own a bank account is significantly more than females.\n",
        "2.   Individuals who are self employed are most likely to have a bank account and those who are informally employed are less likely to have a bank account\n",
        "3. Individuals from urban setup are most likely to have a bank account and\n",
        "those from rural areas are less likely to have a bank account\n",
        "4.  Individuals with a secondary education are most likely to have a bank account and those with a primary level education are less likely to have a bank account\n",
        "5. Individuals from Kenya are most likely to have a bank account and those Uganda are less likely to have a bank account\n",
        "6. Individuals between the ages of 30-50, adults are most likely to have a bank account and those above 80years are less likely to have a bank account\n",
        "7. Individuals from medium sized homes are most likely to have a bank \n",
        "account and those from very large families are less likely to have a bank account\n",
        "\n"
      ]
    },
    {
      "cell_type": "markdown",
      "metadata": {
        "id": "bRorKS7gHd-t",
        "colab_type": "text"
      },
      "source": [
        "**Multivariate Analysis**\n",
        "Here we will perform the Linear Discriminant Analysis Reduction Technique and then complete by conducting the multiple regression analysis"
      ]
    },
    {
      "cell_type": "markdown",
      "metadata": {
        "id": "NVuFRvdVDxze",
        "colab_type": "text"
      },
      "source": [
        "**Checking for relationships between dependent and independent variable**"
      ]
    },
    {
      "cell_type": "code",
      "metadata": {
        "id": "ugGhNCX7kezS",
        "colab_type": "code",
        "colab": {
          "base_uri": "https://localhost:8080/",
          "height": 111
        },
        "outputId": "584889dc-6f60-4450-887b-85d35c6548fd"
      },
      "source": [
        "data_df.head(2)"
      ],
      "execution_count": 42,
      "outputs": [
        {
          "output_type": "execute_result",
          "data": {
            "text/html": [
              "<div>\n",
              "<style scoped>\n",
              "    .dataframe tbody tr th:only-of-type {\n",
              "        vertical-align: middle;\n",
              "    }\n",
              "\n",
              "    .dataframe tbody tr th {\n",
              "        vertical-align: top;\n",
              "    }\n",
              "\n",
              "    .dataframe thead th {\n",
              "        text-align: right;\n",
              "    }\n",
              "</style>\n",
              "<table border=\"1\" class=\"dataframe\">\n",
              "  <thead>\n",
              "    <tr style=\"text-align: right;\">\n",
              "      <th></th>\n",
              "      <th>country</th>\n",
              "      <th>year</th>\n",
              "      <th>bank_acc</th>\n",
              "      <th>residence</th>\n",
              "      <th>household_size</th>\n",
              "      <th>age</th>\n",
              "      <th>gender</th>\n",
              "      <th>education</th>\n",
              "      <th>job</th>\n",
              "      <th>AgeGroup</th>\n",
              "      <th>size</th>\n",
              "    </tr>\n",
              "  </thead>\n",
              "  <tbody>\n",
              "    <tr>\n",
              "      <th>0</th>\n",
              "      <td>Kenya</td>\n",
              "      <td>1970-01-01 00:00:00.000002018</td>\n",
              "      <td>Yes</td>\n",
              "      <td>Rural</td>\n",
              "      <td>3.0</td>\n",
              "      <td>24.0</td>\n",
              "      <td>Female</td>\n",
              "      <td>Secondary education</td>\n",
              "      <td>Self employed</td>\n",
              "      <td>Youth</td>\n",
              "      <td>Medium</td>\n",
              "    </tr>\n",
              "    <tr>\n",
              "      <th>1</th>\n",
              "      <td>Kenya</td>\n",
              "      <td>1970-01-01 00:00:00.000002018</td>\n",
              "      <td>No</td>\n",
              "      <td>Rural</td>\n",
              "      <td>5.0</td>\n",
              "      <td>70.0</td>\n",
              "      <td>Female</td>\n",
              "      <td>No formal education</td>\n",
              "      <td>Government Dependent</td>\n",
              "      <td>Senior Citizen</td>\n",
              "      <td>Large</td>\n",
              "    </tr>\n",
              "  </tbody>\n",
              "</table>\n",
              "</div>"
            ],
            "text/plain": [
              "  country                          year  ...        AgeGroup    size\n",
              "0   Kenya 1970-01-01 00:00:00.000002018  ...           Youth  Medium\n",
              "1   Kenya 1970-01-01 00:00:00.000002018  ...  Senior Citizen   Large\n",
              "\n",
              "[2 rows x 11 columns]"
            ]
          },
          "metadata": {
            "tags": []
          },
          "execution_count": 42
        }
      ]
    },
    {
      "cell_type": "code",
      "metadata": {
        "id": "HwwiLOWZzMkD",
        "colab_type": "code",
        "colab": {
          "base_uri": "https://localhost:8080/",
          "height": 493
        },
        "outputId": "289b9226-945b-45ed-dd9c-a7305dc5c420"
      },
      "source": [
        "#Checking for relationship between dependent variable and independent variable\n",
        "df= data_df.copy()\n",
        "df.head(3)\n",
        "to_nums = {\"bank_acc\": {\"Yes\": 1, \"No\": 0},\n",
        "           \"residence\": {\"Rural\": 0, \"Urban\": 1},\n",
        "           \"gender\": {\"Female\": 2, \"Male\": 3}}\n",
        "import scipy.stats as stats\n",
        "\n",
        "#To convert the columns to numbers using replace :\n",
        "df.replace(to_nums, inplace=True)\n",
        "print(df.head())\n",
        "print(df.info())\n",
        "#calculate point-biserial correlation\n",
        "x = df['bank_acc']\n",
        "y = df['age']\n",
        "stats.pointbiserialr(x, y)\n",
        "#There is close to no linear correlation between age and having a bank account\n",
        "\n",
        "x = df['bank_acc']\n",
        "y = df['household_size']\n",
        "stats.pointbiserialr(x, y)\n",
        "#There is no linear correlation between householdd size and having a bank account\n",
        "\n",
        "x = df['bank_acc']\n",
        "y = df['residence']\n",
        "stats.pointbiserialr(x, y)\n",
        "#There is no linear correlation between householdd size and having a bank account\n",
        "\n",
        "x = df['bank_acc']\n",
        "y = df['gender']\n",
        "stats.pointbiserialr(x, y)\n",
        "#There is a weak correlation between gender and having a bank account"
      ],
      "execution_count": 64,
      "outputs": [
        {
          "output_type": "stream",
          "text": [
            "  country                          year  ...        AgeGroup    size\n",
            "0   Kenya 1970-01-01 00:00:00.000002018  ...           Youth  Medium\n",
            "1   Kenya 1970-01-01 00:00:00.000002018  ...  Senior Citizen   Large\n",
            "2   Kenya 1970-01-01 00:00:00.000002018  ...           Youth   Large\n",
            "3   Kenya 1970-01-01 00:00:00.000002018  ...           Adult   Large\n",
            "4   Kenya 1970-01-01 00:00:00.000002018  ...           Youth     NaN\n",
            "\n",
            "[5 rows x 11 columns]\n",
            "<class 'pandas.core.frame.DataFrame'>\n",
            "Int64Index: 14834 entries, 0 to 31072\n",
            "Data columns (total 11 columns):\n",
            " #   Column          Non-Null Count  Dtype         \n",
            "---  ------          --------------  -----         \n",
            " 0   country         14834 non-null  category      \n",
            " 1   year            14834 non-null  datetime64[ns]\n",
            " 2   bank_acc        14834 non-null  int64         \n",
            " 3   residence       14834 non-null  int64         \n",
            " 4   household_size  14834 non-null  float64       \n",
            " 5   age             14834 non-null  float64       \n",
            " 6   gender          14834 non-null  int64         \n",
            " 7   education       14834 non-null  category      \n",
            " 8   job             14834 non-null  category      \n",
            " 9   AgeGroup        14829 non-null  category      \n",
            " 10  size            14227 non-null  category      \n",
            "dtypes: category(5), datetime64[ns](1), float64(2), int64(3)\n",
            "memory usage: 885.0 KB\n",
            "None\n"
          ],
          "name": "stdout"
        },
        {
          "output_type": "execute_result",
          "data": {
            "text/plain": [
              "PointbiserialrResult(correlation=0.11410387880558051, pvalue=3.536519594800913e-44)"
            ]
          },
          "metadata": {
            "tags": []
          },
          "execution_count": 64
        }
      ]
    },
    {
      "cell_type": "markdown",
      "metadata": {
        "id": "wU8wXG-6Dmep",
        "colab_type": "text"
      },
      "source": [
        "**Reduction Techniques**"
      ]
    },
    {
      "cell_type": "code",
      "metadata": {
        "id": "jj53W8ZnHmTu",
        "colab_type": "code",
        "colab": {
          "base_uri": "https://localhost:8080/",
          "height": 68
        },
        "outputId": "7dcb3d64-f397-4ade-a42a-c423d3094733"
      },
      "source": [
        "#LDA using the dataset data_df\n",
        "#dividing data into labels and feature set\n",
        "x = data_df.iloc[:, 4:6].values\n",
        "y = data_df.iloc[:, 2].values\n",
        "x\n",
        "y\n"
      ],
      "execution_count": 44,
      "outputs": [
        {
          "output_type": "execute_result",
          "data": {
            "text/plain": [
              "[Yes, No, Yes, No, No, ..., No, No, No, No, No]\n",
              "Length: 14834\n",
              "Categories (2, object): [No, Yes]"
            ]
          },
          "metadata": {
            "tags": []
          },
          "execution_count": 44
        }
      ]
    },
    {
      "cell_type": "code",
      "metadata": {
        "id": "k4fWSiBilJZd",
        "colab_type": "code",
        "colab": {}
      },
      "source": [
        "#dividing data into training and test sets\n",
        "from sklearn.model_selection import train_test_split\n",
        "x_train, x_test, y_train, y_test = train_test_split(x, y, test_size=0.2, random_state=0)"
      ],
      "execution_count": 45,
      "outputs": []
    },
    {
      "cell_type": "code",
      "metadata": {
        "id": "tblbewEGliZg",
        "colab_type": "code",
        "colab": {}
      },
      "source": [
        "#Feature scaling\n",
        "#performing feature scaling:\n",
        "# \n",
        "from sklearn.preprocessing import StandardScaler\n",
        "sc = StandardScaler()\n",
        "x_train = sc.fit_transform(x_train)\n",
        "x_test = sc.transform(x_test)"
      ],
      "execution_count": 46,
      "outputs": []
    },
    {
      "cell_type": "code",
      "metadata": {
        "id": "x7o3pHYzmATy",
        "colab_type": "code",
        "colab": {
          "base_uri": "https://localhost:8080/",
          "height": 255
        },
        "outputId": "3d65ec86-c2d8-4517-f6f6-fb23596c0852"
      },
      "source": [
        "#performing LDA with Scikit-Learn\n",
        "from sklearn.discriminant_analysis import LinearDiscriminantAnalysis as LDA\n",
        "lda = LDA(n_components=1)\n",
        "x_train = lda.fit_transform(x_train, y_train)\n",
        "x_test = lda.transform(x_test)\n",
        "print(x_test)\n",
        "print(x_train)"
      ],
      "execution_count": 47,
      "outputs": [
        {
          "output_type": "stream",
          "text": [
            "[[ 0.45081481]\n",
            " [-1.74830906]\n",
            " [-0.63773291]\n",
            " ...\n",
            " [-2.01265019]\n",
            " [ 1.00152549]\n",
            " [-0.02522816]]\n",
            "[[-0.76206402]\n",
            " [-1.13580431]\n",
            " [-1.35608858]\n",
            " ...\n",
            " [-1.57208164]\n",
            " [ 1.06761078]\n",
            " [-0.74358383]]\n"
          ],
          "name": "stdout"
        }
      ]
    },
    {
      "cell_type": "code",
      "metadata": {
        "id": "2-2p_1o7qG51",
        "colab_type": "code",
        "colab": {
          "base_uri": "https://localhost:8080/",
          "height": 34
        },
        "outputId": "a9957982-1c8f-4201-9696-18f84abf2dae"
      },
      "source": [
        "#Training and Making Predictions\n",
        "#using the random forest classifier to evaluate the performance of a LDA-reduced algorithms\n",
        "from sklearn.ensemble import RandomForestClassifier\n",
        "\n",
        "classifier = RandomForestClassifier(max_depth=2, random_state=0)\n",
        "classifier.fit(x_train, y_train)\n",
        "y_pred = classifier.predict(x_test)\n",
        "y_pred"
      ],
      "execution_count": 48,
      "outputs": [
        {
          "output_type": "execute_result",
          "data": {
            "text/plain": [
              "array(['No', 'No', 'No', ..., 'No', 'No', 'No'], dtype=object)"
            ]
          },
          "metadata": {
            "tags": []
          },
          "execution_count": 48
        }
      ]
    },
    {
      "cell_type": "code",
      "metadata": {
        "id": "aGRH2XDbq9oH",
        "colab_type": "code",
        "colab": {
          "base_uri": "https://localhost:8080/",
          "height": 68
        },
        "outputId": "f82b4af3-0d12-438d-9693-b9ed5af97899"
      },
      "source": [
        "# Evaluating the Performance\n",
        "# with the help of a confusion matrix and find the accuracy of the prediction.\n",
        "\n",
        "\n",
        "from sklearn.metrics import confusion_matrix\n",
        "from sklearn.metrics import accuracy_score\n",
        "\n",
        "cm = confusion_matrix(y_test, y_pred)\n",
        "print(cm)\n",
        "print('Accuracy' + str(accuracy_score(y_test, y_pred)))\n",
        "\n",
        "# We can see that with one linear discriminant, the algorithm achieved an accuracy of 80%, \n"
      ],
      "execution_count": 49,
      "outputs": [
        {
          "output_type": "stream",
          "text": [
            "[[2356    0]\n",
            " [ 611    0]]\n",
            "Accuracy0.7940680822379508\n"
          ],
          "name": "stdout"
        }
      ]
    },
    {
      "cell_type": "markdown",
      "metadata": {
        "id": "a4YXy8LwL8N4",
        "colab_type": "text"
      },
      "source": [
        "**Summary**\n",
        "\n",
        "1.   Reduction Technique used here was **Linear Discriminant Analysis**\n",
        "2.   The model achieved an accuracy of **80%**\n",
        "3.   Most of the variables are not linearly related to the dependent variable\n",
        "\n"
      ]
    },
    {
      "cell_type": "markdown",
      "metadata": {
        "id": "lQ2G4ZPDVOXE",
        "colab_type": "text"
      },
      "source": [
        "## 6. Challenging the solution"
      ]
    },
    {
      "cell_type": "markdown",
      "metadata": {
        "id": "xrmHVMVsVS--",
        "colab_type": "text"
      },
      "source": [
        "## 7. Follow up questions"
      ]
    },
    {
      "cell_type": "markdown",
      "metadata": {
        "id": "pth2qSWhuBIy",
        "colab_type": "text"
      },
      "source": [
        "> At this point, we can refine our question or collect new data, all in an iterative process to get at the truth.\n",
        "\n"
      ]
    },
    {
      "cell_type": "markdown",
      "metadata": {
        "id": "HPQviDmNtta8",
        "colab_type": "text"
      },
      "source": [
        "### a). Did we have the right data?\n",
        "\n",
        "\n",
        "*   Yes\n",
        "\n",
        "\n"
      ]
    },
    {
      "cell_type": "markdown",
      "metadata": {
        "id": "qjFHK1CKty7o",
        "colab_type": "text"
      },
      "source": [
        "### b). Do we need other data to answer our question?\n",
        "\n",
        "*   The data was able to answer our research question\n",
        "\n",
        "\n",
        "*   It would be good to find a dataset where the independent variables have a positive correlation with the dependent variable\n",
        "  \n",
        "\n"
      ]
    },
    {
      "cell_type": "markdown",
      "metadata": {
        "id": "HSsicSdvt4Zs",
        "colab_type": "text"
      },
      "source": [
        "### c). Did we have the right question?\n",
        "\n",
        "\n",
        "*   Yes\n",
        "\n",
        "\n"
      ]
    }
  ]
}